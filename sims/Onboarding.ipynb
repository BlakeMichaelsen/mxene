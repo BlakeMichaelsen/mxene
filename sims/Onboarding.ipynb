{
 "cells": [
  {
   "cell_type": "markdown",
   "id": "b463e24d-c6a3-4dec-a446-94f91859ca85",
   "metadata": {},
   "source": [
    "# Running your own simulation!"
   ]
  },
  {
   "cell_type": "markdown",
   "id": "6296ea15-2692-4216-82df-092200e1c305",
   "metadata": {},
   "source": [
    "### Step 1: Importing necessary libraries"
   ]
  },
  {
   "cell_type": "code",
   "execution_count": null,
   "id": "8c3308c6-8bc7-4368-bbf6-5c53489c0a18",
   "metadata": {},
   "outputs": [],
   "source": [
    "import flowermd # wrapper we use on top of hoomd\n",
    "import gsd # to work with simulation data files\n",
    "import gsd.hoomd # to work with simulation data files directly coming from hoomd sims\n",
    "import hoomd # MD simulation engine used for initializing and running sims\n",
    "import mbuild as mb # library used to build Molecule objects\n",
    "import numpy as np # common library used for a plethora of things, such as indexing, numeric constants, linear algebra, etc.\n",
    "import warnings # used to provide the user warnings rather than errors\n",
    "from flowermd.base import Pack, Simulation, System, Molecule # importing useful functions from flowermd to simplify initializing and running \n",
    "from flowermd.library import LJChain # lennard jones polymer chains with scalable length\n",
    "from flowermd.library.forcefields import BeadSpring # forcefield template used in order to define interactions within sim\n",
    "from flowermd.utils import get_target_box_number_density # used to define final density to shrink box to in order to minimize space\n",
    "from mbuild.compound import Compound # base compound object to create molecule geometry\n",
    "from mbuild.lattice import Lattice # lattice object to initialize lattice spacing and points\n",
    "import unyt aRunnings u # module used for unit definitions\n",
    "warnings.filterwarnings('ignore') # ignore warnings"
   ]
  },
  {
   "cell_type": "markdown",
   "id": "0b5c5519-add2-4af9-ac32-a99d463baae8",
   "metadata": {},
   "source": [
    "### Step 2: Define flake geometry"
   ]
  },
  {
   "cell_type": "code",
   "execution_count": null,
   "id": "2dce7cdb-61d5-4f40-b1d5-2b69849f7d10",
   "metadata": {},
   "outputs": [],
   "source": [
    "class Flake(System):\n",
    "    def __init__(\n",
    "        self,\n",
    "        x_repeat,\n",
    "        y_repeat,\n",
    "        n_layers,\n",
    "        base_units=dict(),\n",
    "        periodicity=(True, True, False),\n",
    "    ):\n",
    "        surface = mb.Compound(periodicity=periodicity)\n",
    "        a = 3**.5\n",
    "        lattice = Lattice(\n",
    "            lattice_spacing=[a,a,a],\n",
    "            lattice_vectors=  [[a,0,0],[a/2,3/2,0],[0,0,1]],\n",
    "            lattice_points={\"A\": [[1/3,1/3,0], [2/3, 2/3, 0]]},\n",
    "        ) # define lattice vectors, points, and spacings for flakes\n",
    "        Flakium = Compound(name=\"F\", element=\"F\") # defines an atom that will be used to populate lattice points\n",
    "        layers = lattice.populate(\n",
    "            compound_dict={\"A\": Flakium}, x=x_repeat, y=y_repeat, z=n_layers\n",
    "        ) # populates the lattice using the previously defined carbon atom for every \"A\" site, repeated in all x,y, and z directions\n",
    "        surface.add(layers) # adds populated carbon lattice layers to the 'surface' compound, which represents our graphene structure \n",
    "        surface.freud_generate_bonds(\"F\", \"F\", dmin=0.9, dmax=1.1) # generates bonds depending on input distance range, scales with lattice\n",
    "        surface_mol = Molecule(num_mols=1, compound=surface) # wraps into a Molecule object, creating \"1\" instance of this molecule\n",
    "\n",
    "        super(Flake, self).__init__(\n",
    "            molecules=[surface_mol],\n",
    "            base_units=base_units,\n",
    "        )\n",
    "\n",
    "    def _build_system(self):\n",
    "        return self.all_molecules[0]"
   ]
  },
  {
   "cell_type": "markdown",
   "id": "6de2d529-e4ca-4401-84a3-6a0b25b335fd",
   "metadata": {},
   "source": [
    "### Step 3: Define forcefield, Weeks-Chandler-Anderson"
   ]
  },
  {
   "cell_type": "markdown",
   "id": "4f150e2e-0f6f-4429-ad42-744b84676f91",
   "metadata": {},
   "source": [
    "ff = BeadSpring(\n",
    "    r_cut=2**(1/6),  # r_cut value defines the radius in which a given particle will interact with another.\n",
    "    beads={\n",
    "        \"A\": dict(epsilon=1.0, sigma=1.0),  # chains, epsilon = well depth, defines strength of attractive forces between two molecules\n",
    "        \"F\": dict(epsilon=1.0, sigma=1.0),  # flakes, sigma = distance between two particles where PE is zero\n",
    "    },\n",
    "    bonds={\n",
    "        \"F-F\": dict(r0=1.0, k=1000),\n",
    "        \"A-A\": dict(r0=1.0, k=1000.0),  # r0 = equilibrium distance of bonded particles, k = stiffness constant\n",
    "    },\n",
    "    angles={\n",
    "        \"A-A-A\": dict(t0=2* np.pi / 3., k=100.0),   \n",
    "        \"F-F-F\": dict(t0=2 * np.pi / 3., k=5000),\n",
    "    },\n",
    "    dihedrals={\n",
    "        \"A-A-A-A\": dict(phi0=0.0, k=0, d=-1, n=2), # do not worry about dihedrals\n",
    "        \"F-F-F-F\": dict(phi0=0.0, k=500, d=-1, n=2),\n",
    "    }\n",
    ")"
   ]
  },
  {
   "cell_type": "markdown",
   "id": "e3a92be0-0a38-40d7-abde-2ff4a12052ed",
   "metadata": {},
   "source": [
    "### Step 4: Define simulation parameters"
   ]
  },
  {
   "cell_type": "code",
   "execution_count": null,
   "id": "f74ebf6d-79e1-488f-8921-a188ebe92673",
   "metadata": {},
   "outputs": [],
   "source": [
    "N_chains = 100 # number of polymer chains\n",
    "initial_dens = 0.001 # initial packing density to initialize system\n",
    "final_dens = 0.3 # final packing density for shrinking\n",
    "N_flakes = 10 # number of flakes\n",
    "chain_length = 10 # length of polymer chains\n",
    "dt = 0.005 # step size of simulation\n",
    "temp = 3.0 # kT, temperature of simulation"
   ]
  },
  {
   "cell_type": "markdown",
   "id": "d13db147-6579-4af0-a596-6bceb9ca0473",
   "metadata": {},
   "source": [
    "### Step 5: Running on a CPU? Or a GPU?"
   ]
  },
  {
   "cell_type": "code",
   "execution_count": null,
   "id": "b06e0517-6747-4eff-a7db-ac8ab0c99b48",
   "metadata": {},
   "outputs": [],
   "source": [
    "device = hoomd.device.CPU() # change to hoomd.device.GPU() if you can/want to run on your GPU.Running"
   ]
  },
  {
   "cell_type": "markdown",
   "id": "2b3c026e-ffd1-4d4a-a27e-c260458725aa",
   "metadata": {},
   "source": [
    "### Step 6: Initialize system"
   ]
  },
  {
   "cell_type": "code",
   "execution_count": null,
   "id": "21378af5-3fba-491f-9360-c069360d46b5",
   "metadata": {},
   "outputs": [],
   "source": [
    "kg_chain = LJChain(lengths=chain_length,num_mols=N_chains) # initializing polymer chains\n",
    "sheet = Flake(x_repeat=5, y_repeat=5, n_layers=1, periodicity=(False, False, False)) # initializing flakes\n",
    "system = Pack(molecules=[Molecule(compound=sheet.all_molecules[0], num_mols=N_flakes), kg_chain], \n",
    "              density=initial_dens, packing_expand_factor = 6, seed=2) # packing chains and flakes into system\n",
    "target_box = get_target_box_number_density(density=final_dens*u.Unit(\"nm**-3\"),n_beads=(500+(N_chains*10))) # acquiring final density scaling with number density"
   ]
  },
  {
   "cell_type": "markdown",
   "id": "25b92ef6-0924-478b-b2bd-292161009148",
   "metadata": {},
   "source": [
    "### Step 7: Output files"
   ]
  },
  {
   "cell_type": "code",
   "execution_count": null,
   "id": "00a6af7b-f424-4a27-a8be-f80a20c8ca03",
   "metadata": {},
   "outputs": [],
   "source": [
    "gsd = f\"{N_chains}_{chain_length}mer{N_flakes}f_{dt}dt.gsd\" # name of output gsd files\n",
    "log = f\"{N_chains}_{chain_length}mer{N_flakes}f_{dt}dt.txt\" # name of output log files"
   ]
  },
  {
   "cell_type": "markdown",
   "id": "5a16ce5f-f237-400f-b333-91292c6f9d8c",
   "metadata": {},
   "source": [
    "### Step 8: Initializing simulation, then running shrink -> simulation"
   ]
  },
  {
   "cell_type": "code",
   "execution_count": null,
   "id": "64f9fae9-a3b9-418e-a03b-681b754e1b03",
   "metadata": {},
   "outputs": [],
   "source": [
    "sim = Simulation(initial_state=system.hoomd_snapshot, forcefield=ff.hoomd_forces, device=device, dt = dt, gsd_write_freq=int(1000), log_file_name = log, gsd_file_name = gsd) # initializing simulation\n",
    "sim.run_update_volume(final_box_lengths=target_box, kT=6.0, n_steps=5e6,tau_kt=100*sim.dt,period=10,thermalize_particles=True) # shrink simulation run\n",
    "sim.run_NVT(n_steps=5e6, kT=temp, tau_kt=dt*100) # simulation run\n",
    "sim.flush_writers() # updating data files"
   ]
  },
  {
   "cell_type": "code",
   "execution_count": null,
   "id": "a8af76ae-efe0-4912-8417-612048485a77",
   "metadata": {},
   "outputs": [],
   "source": []
  }
 ],
 "metadata": {
  "kernelspec": {
   "display_name": "Python 3 (ipykernel)",
   "language": "python",
   "name": "python3"
  },
  "language_info": {
   "codemirror_mode": {
    "name": "ipython",
    "version": 3
   },
   "file_extension": ".py",
   "mimetype": "text/x-python",
   "name": "python",
   "nbconvert_exporter": "python",
   "pygments_lexer": "ipython3",
   "version": "3.12.0"
  }
 },
 "nbformat": 4,
 "nbformat_minor": 5
}
